{
 "cells": [
  {
   "cell_type": "code",
   "execution_count": 11,
   "metadata": {},
   "outputs": [],
   "source": [
    "# Necessary imports\n",
    "import pandas as pd\n",
    "import numpy as np\n",
    "from sklearn.model_selection import train_test_split\n",
    "from sklearn.tree import DecisionTreeClassifier\n",
    "from sklearn.metrics import confusion_matrix, accuracy_score, classification_report"
   ]
  },
  {
   "cell_type": "code",
   "execution_count": 26,
   "metadata": {},
   "outputs": [
    {
     "name": "stdout",
     "output_type": "stream",
     "text": [
      "Data Shape:  (12960, 9)\n",
      "  parents has_nurs      form children     housing     finance         social       health       class\n",
      "0   usual   proper  complete        1  convenient  convenient        nonprob  recommended   recommend\n",
      "1   usual   proper  complete        1  convenient  convenient        nonprob     priority    priority\n",
      "2   usual   proper  complete        1  convenient  convenient        nonprob    not_recom   not_recom\n",
      "3   usual   proper  complete        1  convenient  convenient  slightly_prob  recommended   recommend\n",
      "4   usual   proper  complete        1  convenient  convenient  slightly_prob     priority    priority\n",
      "5   usual   proper  complete        1  convenient  convenient  slightly_prob    not_recom   not_recom\n",
      "6   usual   proper  complete        1  convenient  convenient    problematic  recommended    priority\n",
      "7   usual   proper  complete        1  convenient  convenient    problematic     priority    priority\n",
      "8   usual   proper  complete        1  convenient  convenient    problematic    not_recom   not_recom\n",
      "9   usual   proper  complete        1  convenient      inconv        nonprob  recommended  very_recom\n"
     ]
    }
   ],
   "source": [
    "column_names = ['parents', 'has_nurs', 'form', 'children', 'housing', 'finance', 'social', 'health', 'class']\n",
    "\n",
    "# Load the data and add column names\n",
    "data = pd.read_csv('data/nursery.data', delimiter=',', names=column_names)\n",
    "\n",
    "# Print the shape of the data\n",
    "print(\"Data Shape: \", data.shape)\n",
    "\n",
    "# Print the first 10 rows\n",
    "print(data.head(10).to_string())"
   ]
  },
  {
   "cell_type": "code",
   "execution_count": 15,
   "metadata": {},
   "outputs": [
    {
     "name": "stdout",
     "output_type": "stream",
     "text": [
      "       parents has_nurs      form children     housing     finance   social       health      class\n",
      "count    12960    12960     12960    12960       12960       12960    12960        12960      12960\n",
      "unique       3        5         4        4           3           2        3            3          5\n",
      "top      usual   proper  complete        1  convenient  convenient  nonprob  recommended  not_recom\n",
      "freq      4320     2592      3240     3240        4320        6480     4320         4320       4320\n"
     ]
    }
   ],
   "source": [
    "# Get information about the data\n",
    "print(data.describe().to_string())"
   ]
  },
  {
   "cell_type": "code",
   "execution_count": 30,
   "metadata": {},
   "outputs": [
    {
     "name": "stdout",
     "output_type": "stream",
     "text": [
      "parents     0\n",
      "has_nurs    0\n",
      "form        0\n",
      "children    0\n",
      "housing     0\n",
      "finance     0\n",
      "social      0\n",
      "health      0\n",
      "class       0\n",
      "dtype: int64\n"
     ]
    }
   ],
   "source": [
    "# Check if there are missing values\n",
    "print(data.isnull().sum())"
   ]
  },
  {
   "cell_type": "code",
   "execution_count": 31,
   "metadata": {},
   "outputs": [
    {
     "name": "stdout",
     "output_type": "stream",
     "text": [
      "  parents has_nurs      form children     housing     finance         social       health\n",
      "0   usual   proper  complete        1  convenient  convenient        nonprob  recommended\n",
      "1   usual   proper  complete        1  convenient  convenient        nonprob     priority\n",
      "2   usual   proper  complete        1  convenient  convenient        nonprob    not_recom\n",
      "3   usual   proper  complete        1  convenient  convenient  slightly_prob  recommended\n",
      "4   usual   proper  complete        1  convenient  convenient  slightly_prob     priority\n",
      "5   usual   proper  complete        1  convenient  convenient  slightly_prob    not_recom\n",
      "6   usual   proper  complete        1  convenient  convenient    problematic  recommended\n",
      "7   usual   proper  complete        1  convenient  convenient    problematic     priority\n",
      "8   usual   proper  complete        1  convenient  convenient    problematic    not_recom\n",
      "9   usual   proper  complete        1  convenient      inconv        nonprob  recommended\n",
      "0     recommend\n",
      "1      priority\n",
      "2     not_recom\n",
      "3     recommend\n",
      "4      priority\n",
      "5     not_recom\n",
      "6      priority\n",
      "7      priority\n",
      "8     not_recom\n",
      "9    very_recom\n",
      "Shape of X: (12960, 8)\n",
      "Shape of y: (12960,)\n"
     ]
    }
   ],
   "source": [
    "# Separate the features and target variable before encoding\n",
    "X = data.drop('class', axis=1)\n",
    "y = data['class']\n",
    "\n",
    "print(X.head(10).to_string())\n",
    "print(y.head(10).to_string())\n",
    "\n",
    "# Print the shape of features and target variable\n",
    "print(\"Shape of X:\", X.shape)\n",
    "print(\"Shape of y:\", y.shape)"
   ]
  },
  {
   "cell_type": "code",
   "execution_count": 10,
   "metadata": {},
   "outputs": [
    {
     "ename": "NameError",
     "evalue": "name 'X_encoded' is not defined",
     "output_type": "error",
     "traceback": [
      "\u001b[1;31m---------------------------------------------------------------------------\u001b[0m",
      "\u001b[1;31mNameError\u001b[0m                                 Traceback (most recent call last)",
      "Cell \u001b[1;32mIn[10], line 1\u001b[0m\n\u001b[1;32m----> 1\u001b[0m \u001b[38;5;28mprint\u001b[39m(\u001b[38;5;124m\"\u001b[39m\u001b[38;5;124mX_encoded:\u001b[39m\u001b[38;5;124m\"\u001b[39m , X_encoded\u001b[38;5;241m.\u001b[39mhead(\u001b[38;5;241m10\u001b[39m)\u001b[38;5;241m.\u001b[39mto_string())\n\u001b[0;32m      2\u001b[0m \u001b[38;5;28mprint\u001b[39m(\u001b[38;5;124m\"\u001b[39m\u001b[38;5;124my:\u001b[39m\u001b[38;5;124m\"\u001b[39m , y\u001b[38;5;241m.\u001b[39mhead(\u001b[38;5;241m10\u001b[39m)\u001b[38;5;241m.\u001b[39mto_string())\n",
      "\u001b[1;31mNameError\u001b[0m: name 'X_encoded' is not defined"
     ]
    }
   ],
   "source": [
    "print(\"X_encoded:\" , X_encoded.head(10).to_string())\n",
    "print(\"y:\" , y.head(10).to_string())"
   ]
  },
  {
   "cell_type": "code",
   "execution_count": null,
   "metadata": {},
   "outputs": [
    {
     "ename": "ModuleNotFoundError",
     "evalue": "No module named 'seaborn'",
     "output_type": "error",
     "traceback": [
      "\u001b[1;31m---------------------------------------------------------------------------\u001b[0m",
      "\u001b[1;31mModuleNotFoundError\u001b[0m                       Traceback (most recent call last)",
      "Cell \u001b[1;32mIn[6], line 2\u001b[0m\n\u001b[0;32m      1\u001b[0m \u001b[38;5;66;03m# Visualize data distributions (you can use seaborn or matplotlib for visualization)\u001b[39;00m\n\u001b[1;32m----> 2\u001b[0m \u001b[38;5;28;01mimport\u001b[39;00m \u001b[38;5;21;01mseaborn\u001b[39;00m \u001b[38;5;28;01mas\u001b[39;00m \u001b[38;5;21;01msns\u001b[39;00m\n\u001b[0;32m      3\u001b[0m \u001b[38;5;28;01mimport\u001b[39;00m \u001b[38;5;21;01mmatplotlib\u001b[39;00m\u001b[38;5;21;01m.\u001b[39;00m\u001b[38;5;21;01mpyplot\u001b[39;00m \u001b[38;5;28;01mas\u001b[39;00m \u001b[38;5;21;01mplt\u001b[39;00m\n\u001b[0;32m      5\u001b[0m \u001b[38;5;66;03m# Example visualization (you can customize this based on your dataset and requirements)\u001b[39;00m\n",
      "\u001b[1;31mModuleNotFoundError\u001b[0m: No module named 'seaborn'"
     ]
    }
   ],
   "source": [
    "# Visualize data distributions (you can use seaborn or matplotlib for visualization)\n",
    "import seaborn as sns\n",
    "import matplotlib.pyplot as plt\n",
    "\n",
    "# Example visualization (you can customize this based on your dataset and requirements)\n",
    "sns.countplot(x='class', data=data)\n",
    "plt.title('Class Distribution')\n",
    "plt.show()\n",
    "\n",
    "# Preprocess the data\n",
    "# Example: Encoding categorical variables\n",
    "data_encoded = pd.get_dummies(data, drop_first=True)\n",
    "\n",
    "# Split the data into features (X) and target variable (y)\n",
    "X = data_encoded.drop('class', axis=1)\n",
    "y = data_encoded['class']\n",
    "\n",
    "# Display the first few rows of the preprocessed data\n",
    "print(X.head())\n",
    "print(y.head())"
   ]
  }
 ],
 "metadata": {
  "kernelspec": {
   "display_name": "Python 3",
   "language": "python",
   "name": "python3"
  },
  "language_info": {
   "codemirror_mode": {
    "name": "ipython",
    "version": 3
   },
   "file_extension": ".py",
   "mimetype": "text/x-python",
   "name": "python",
   "nbconvert_exporter": "python",
   "pygments_lexer": "ipython3",
   "version": "3.11.9"
  }
 },
 "nbformat": 4,
 "nbformat_minor": 2
}
