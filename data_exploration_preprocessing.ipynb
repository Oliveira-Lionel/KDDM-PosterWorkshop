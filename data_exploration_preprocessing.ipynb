{
 "cells": [
  {
   "cell_type": "code",
   "execution_count": 23,
   "metadata": {},
   "outputs": [
    {
     "name": "stdout",
     "output_type": "stream",
     "text": [
      "  parents has_nurs      form children     housing     finance         social       health       class\n",
      "0   usual   proper  complete        1  convenient  convenient        nonprob  recommended   recommend\n",
      "1   usual   proper  complete        1  convenient  convenient        nonprob     priority    priority\n",
      "2   usual   proper  complete        1  convenient  convenient        nonprob    not_recom   not_recom\n",
      "3   usual   proper  complete        1  convenient  convenient  slightly_prob  recommended   recommend\n",
      "4   usual   proper  complete        1  convenient  convenient  slightly_prob     priority    priority\n",
      "5   usual   proper  complete        1  convenient  convenient  slightly_prob    not_recom   not_recom\n",
      "6   usual   proper  complete        1  convenient  convenient    problematic  recommended    priority\n",
      "7   usual   proper  complete        1  convenient  convenient    problematic     priority    priority\n",
      "8   usual   proper  complete        1  convenient  convenient    problematic    not_recom   not_recom\n",
      "9   usual   proper  complete        1  convenient      inconv        nonprob  recommended  very_recom\n"
     ]
    }
   ],
   "source": [
    "import pandas as pd\n",
    "\n",
    "column_names = ['parents', 'has_nurs', 'form', 'children', 'housing', 'finance', 'social', 'health', 'class']\n",
    "\n",
    "# Load the data and add column names\n",
    "data = pd.read_csv('data/nursery.data', delimiter=',', names=column_names)\n",
    "\n",
    "# Print the first 10 rows\n",
    "print(data.head(10).to_string())"
   ]
  },
  {
   "cell_type": "code",
   "execution_count": 24,
   "metadata": {},
   "outputs": [
    {
     "name": "stdout",
     "output_type": "stream",
     "text": [
      "       parents has_nurs      form children     housing     finance   social       health      class\n",
      "count    12960    12960     12960    12960       12960       12960    12960        12960      12960\n",
      "unique       3        5         4        4           3           2        3            3          5\n",
      "top      usual   proper  complete        1  convenient  convenient  nonprob  recommended  not_recom\n",
      "freq      4320     2592      3240     3240        4320        6480     4320         4320       4320\n"
     ]
    }
   ],
   "source": [
    "# Get information about the data\n",
    "print(data.describe().to_string())"
   ]
  },
  {
   "cell_type": "code",
   "execution_count": 25,
   "metadata": {},
   "outputs": [
    {
     "name": "stdout",
     "output_type": "stream",
     "text": [
      "parents     0\n",
      "has_nurs    0\n",
      "form        0\n",
      "children    0\n",
      "housing     0\n",
      "finance     0\n",
      "social      0\n",
      "health      0\n",
      "class       0\n",
      "dtype: int64\n"
     ]
    }
   ],
   "source": [
    "# Check if there are missing values\n",
    "print(data.isnull().sum())"
   ]
  },
  {
   "cell_type": "code",
   "execution_count": 31,
   "metadata": {},
   "outputs": [
    {
     "name": "stdout",
     "output_type": "stream",
     "text": [
      "Shape of X: (12960, 19)\n",
      "Shape of y: (12960,)\n"
     ]
    }
   ],
   "source": [
    "# Separate the features and target variable before encoding\n",
    "X = data.drop('class', axis=1)\n",
    "y = data['class']\n",
    "\n",
    "# Encode categorical variables in the features\n",
    "X_encoded = pd.get_dummies(X, drop_first=True)\n",
    "\n",
    "# Print the shape of features and target variable\n",
    "print(\"Shape of X:\", X_encoded.shape)\n",
    "print(\"Shape of y:\", y.shape)\n"
   ]
  },
  {
   "cell_type": "code",
   "execution_count": 32,
   "metadata": {},
   "outputs": [
    {
     "name": "stdout",
     "output_type": "stream",
     "text": [
      "X_encoded:    parents_pretentious  parents_usual  has_nurs_improper  has_nurs_less_proper  has_nurs_proper  has_nurs_very_crit  form_completed  form_foster  form_incomplete  children_2  children_3  children_more  housing_critical  housing_less_conv  finance_inconv  social_problematic  social_slightly_prob  health_priority  health_recommended\n",
      "0                False           True              False                 False             True               False           False        False            False       False       False          False             False              False           False               False                 False            False                True\n",
      "1                False           True              False                 False             True               False           False        False            False       False       False          False             False              False           False               False                 False             True               False\n",
      "2                False           True              False                 False             True               False           False        False            False       False       False          False             False              False           False               False                 False            False               False\n",
      "3                False           True              False                 False             True               False           False        False            False       False       False          False             False              False           False               False                  True            False                True\n",
      "4                False           True              False                 False             True               False           False        False            False       False       False          False             False              False           False               False                  True             True               False\n",
      "5                False           True              False                 False             True               False           False        False            False       False       False          False             False              False           False               False                  True            False               False\n",
      "6                False           True              False                 False             True               False           False        False            False       False       False          False             False              False           False                True                 False            False                True\n",
      "7                False           True              False                 False             True               False           False        False            False       False       False          False             False              False           False                True                 False             True               False\n",
      "8                False           True              False                 False             True               False           False        False            False       False       False          False             False              False           False                True                 False            False               False\n",
      "9                False           True              False                 False             True               False           False        False            False       False       False          False             False              False            True               False                 False            False                True\n",
      "y: 0     recommend\n",
      "1      priority\n",
      "2     not_recom\n",
      "3     recommend\n",
      "4      priority\n",
      "5     not_recom\n",
      "6      priority\n",
      "7      priority\n",
      "8     not_recom\n",
      "9    very_recom\n"
     ]
    }
   ],
   "source": [
    "print(\"X_encoded:\" , X_encoded.head(10).to_string())\n",
    "print(\"y:\" , y.head(10).to_string())"
   ]
  }
 ],
 "metadata": {
  "kernelspec": {
   "display_name": "Python 3",
   "language": "python",
   "name": "python3"
  },
  "language_info": {
   "codemirror_mode": {
    "name": "ipython",
    "version": 3
   },
   "file_extension": ".py",
   "mimetype": "text/x-python",
   "name": "python",
   "nbconvert_exporter": "python",
   "pygments_lexer": "ipython3",
   "version": "3.11.9"
  }
 },
 "nbformat": 4,
 "nbformat_minor": 2
}
