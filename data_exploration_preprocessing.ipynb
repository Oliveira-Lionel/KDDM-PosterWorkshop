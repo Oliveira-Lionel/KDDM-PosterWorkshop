{
 "cells": [
  {
   "cell_type": "code",
   "execution_count": 14,
   "metadata": {},
   "outputs": [
    {
     "name": "stdout",
     "output_type": "stream",
     "text": [
      "  parents has_nurs      form children     housing     finance         social       health       class\n",
      "0   usual   proper  complete        1  convenient  convenient        nonprob  recommended   recommend\n",
      "1   usual   proper  complete        1  convenient  convenient        nonprob     priority    priority\n",
      "2   usual   proper  complete        1  convenient  convenient        nonprob    not_recom   not_recom\n",
      "3   usual   proper  complete        1  convenient  convenient  slightly_prob  recommended   recommend\n",
      "4   usual   proper  complete        1  convenient  convenient  slightly_prob     priority    priority\n",
      "5   usual   proper  complete        1  convenient  convenient  slightly_prob    not_recom   not_recom\n",
      "6   usual   proper  complete        1  convenient  convenient    problematic  recommended    priority\n",
      "7   usual   proper  complete        1  convenient  convenient    problematic     priority    priority\n",
      "8   usual   proper  complete        1  convenient  convenient    problematic    not_recom   not_recom\n",
      "9   usual   proper  complete        1  convenient      inconv        nonprob  recommended  very_recom\n"
     ]
    }
   ],
   "source": [
    "import pandas as pd\n",
    "\n",
    "column_names = ['parents', 'has_nurs', 'form', 'children', 'housing', 'finance', 'social', 'health', 'class']\n",
    "\n",
    "# Load the data and add column names\n",
    "data = pd.read_csv('data/nursery.data', delimiter=',', names=column_names)\n",
    "\n",
    "# Print the first 10 rows\n",
    "print(data.head(10).to_string())"
   ]
  },
  {
   "cell_type": "code",
   "execution_count": 16,
   "metadata": {},
   "outputs": [
    {
     "name": "stdout",
     "output_type": "stream",
     "text": [
      "       parents has_nurs      form children     housing     finance   social       health      class\n",
      "count    12960    12960     12960    12960       12960       12960    12960        12960      12960\n",
      "unique       3        5         4        4           3           2        3            3          5\n",
      "top      usual   proper  complete        1  convenient  convenient  nonprob  recommended  not_recom\n",
      "freq      4320     2592      3240     3240        4320        6480     4320         4320       4320\n"
     ]
    }
   ],
   "source": [
    "# Get information about the data\n",
    "print(data.describe().to_string())"
   ]
  },
  {
   "cell_type": "code",
   "execution_count": 17,
   "metadata": {},
   "outputs": [
    {
     "name": "stdout",
     "output_type": "stream",
     "text": [
      "parents     0\n",
      "has_nurs    0\n",
      "form        0\n",
      "children    0\n",
      "housing     0\n",
      "finance     0\n",
      "social      0\n",
      "health      0\n",
      "class       0\n",
      "dtype: int64\n"
     ]
    }
   ],
   "source": [
    "# Check if there are missing values\n",
    "print(data.isnull().sum())"
   ]
  }
 ],
 "metadata": {
  "kernelspec": {
   "display_name": "Python 3",
   "language": "python",
   "name": "python3"
  },
  "language_info": {
   "codemirror_mode": {
    "name": "ipython",
    "version": 3
   },
   "file_extension": ".py",
   "mimetype": "text/x-python",
   "name": "python",
   "nbconvert_exporter": "python",
   "pygments_lexer": "ipython3",
   "version": "3.11.9"
  }
 },
 "nbformat": 4,
 "nbformat_minor": 2
}
